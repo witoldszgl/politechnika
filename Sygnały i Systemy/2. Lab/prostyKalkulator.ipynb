{
 "cells": [
  {
   "cell_type": "code",
   "execution_count": 12,
   "metadata": {},
   "outputs": [
    {
     "name": "stdout",
     "output_type": "stream",
     "text": [
      "Wynik działania: 10.0 / 2.0 = 5.0\n"
     ]
    }
   ],
   "source": [
    "numberA=float(input(\"Podaj pierwszą wartośc: \"))\n",
    "operator=input(\"Podaj znak działania: \")\n",
    "numberB=float(input(\"Podaj drugą wartość: \"))\n",
    "result=0\n",
    "\n",
    "if(operator=='+'):\n",
    "    result=numberA+numberB\n",
    "elif(operator=='-'):\n",
    "    result=numberA-numberB\n",
    "elif(operator=='*'):\n",
    "    result=numberA*numberB\n",
    "elif(operator=='/'):\n",
    "    result=numberA/numberB\n",
    "\n",
    "print(\"Wynik działania:\",numberA,operator,numberB,\"=\",result)"
   ]
  }
 ],
 "metadata": {
  "interpreter": {
   "hash": "d2723257242772e10001b86f998b92ed42713a5b9bc9b7d1beebc19b2fa75d1b"
  },
  "kernelspec": {
   "display_name": "Python 3.9.8 64-bit (windows store)",
   "language": "python",
   "name": "python3"
  },
  "language_info": {
   "codemirror_mode": {
    "name": "ipython",
    "version": 3
   },
   "file_extension": ".py",
   "mimetype": "text/x-python",
   "name": "python",
   "nbconvert_exporter": "python",
   "pygments_lexer": "ipython3",
   "version": "3.9.8"
  },
  "orig_nbformat": 4
 },
 "nbformat": 4,
 "nbformat_minor": 2
}
