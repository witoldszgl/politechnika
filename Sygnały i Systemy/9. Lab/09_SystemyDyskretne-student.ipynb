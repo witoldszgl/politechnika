{
 "cells": [
  {
   "cell_type": "markdown",
   "metadata": {},
   "source": [
    "----\n",
    "# Laboratorium 9 - Systemy i sygnały dyskretne\n",
    "----\n",
    "Materiały dydaktyczne przeznaczone są wyłącznie dla studentów wydziału Informatyki i Telekomunikacji Politechniki Poznańskiej  "
   ]
  },
  {
   "cell_type": "markdown",
   "metadata": {},
   "source": [
    "## 0. Przydatne informacje\n",
    "Funkcje z biblioteki *numpy* (numpy.hamming), *matplotlib* (funkcja 'stem'), *scipy.fftpack* (funkcje 'fft' oraz 'ifft'), *scipy.signal* (funkcja 'convolve')\n"
   ]
  },
  {
   "cell_type": "markdown",
   "metadata": {},
   "source": [
    "----\n",
    "## 1. Sygnały dyskretne\n",
    "----\n",
    "### Zadanie: Wygenerować i wykreślić podane sygnały dyskretne:\n",
    "1. Osiem próbek sygnału stałego o wartości 2.\n",
    "2. Sygnał: u(n) = δ(n-1) + 2 δ(n-2) + 3 δ(n-3) + 2 δ(n-4) + δ(n-5)\n",
    "3. Jeden okres sygnału sinusoidalnego, złożony z 20 próbek.\n",
    "4. Jeden okres (cztery próbki) sygnału prostokątnego (próbki o wartościach 1 lub 0).\n",
    "5. Jeden okres (szesnaście próbek) sygnału prostokątnego (próbki o wartościach 1 lub 0).\n",
    "6. Jeden okres (cztery próbki) sygnału prostokątnego (próbki o wartościach 1 lub -1). \n"
   ]
  },
  {
   "cell_type": "code",
   "execution_count": 11,
   "metadata": {},
   "outputs": [
    {
     "ename": "NameError",
     "evalue": "name 'n6' is not defined",
     "output_type": "error",
     "traceback": [
      "\u001b[1;31m---------------------------------------------------------------------------\u001b[0m",
      "\u001b[1;31mNameError\u001b[0m                                 Traceback (most recent call last)",
      "\u001b[1;32m~\\AppData\\Local\\Temp/ipykernel_23340/3462197279.py\u001b[0m in \u001b[0;36m<module>\u001b[1;34m\u001b[0m\n\u001b[0;32m     56\u001b[0m \u001b[0maxs\u001b[0m\u001b[1;33m[\u001b[0m\u001b[1;36m1\u001b[0m\u001b[1;33m]\u001b[0m\u001b[1;33m[\u001b[0m\u001b[1;36m1\u001b[0m\u001b[1;33m]\u001b[0m\u001b[1;33m.\u001b[0m\u001b[0mstem\u001b[0m\u001b[1;33m(\u001b[0m\u001b[0mn4\u001b[0m\u001b[1;33m,\u001b[0m \u001b[0mf4\u001b[0m\u001b[1;33m)\u001b[0m\u001b[1;33m\u001b[0m\u001b[1;33m\u001b[0m\u001b[0m\n\u001b[0;32m     57\u001b[0m \u001b[0maxs\u001b[0m\u001b[1;33m[\u001b[0m\u001b[1;36m2\u001b[0m\u001b[1;33m]\u001b[0m\u001b[1;33m[\u001b[0m\u001b[1;36m0\u001b[0m\u001b[1;33m]\u001b[0m\u001b[1;33m.\u001b[0m\u001b[0mstem\u001b[0m\u001b[1;33m(\u001b[0m\u001b[0mn5\u001b[0m\u001b[1;33m,\u001b[0m \u001b[0mf5\u001b[0m\u001b[1;33m)\u001b[0m\u001b[1;33m\u001b[0m\u001b[1;33m\u001b[0m\u001b[0m\n\u001b[1;32m---> 58\u001b[1;33m \u001b[0maxs\u001b[0m\u001b[1;33m[\u001b[0m\u001b[1;36m2\u001b[0m\u001b[1;33m]\u001b[0m\u001b[1;33m[\u001b[0m\u001b[1;36m1\u001b[0m\u001b[1;33m]\u001b[0m\u001b[1;33m.\u001b[0m\u001b[0mstem\u001b[0m\u001b[1;33m(\u001b[0m\u001b[0mn6\u001b[0m\u001b[1;33m,\u001b[0m \u001b[0mf6\u001b[0m\u001b[1;33m)\u001b[0m\u001b[1;33m\u001b[0m\u001b[1;33m\u001b[0m\u001b[0m\n\u001b[0m\u001b[0;32m     59\u001b[0m \u001b[1;33m\u001b[0m\u001b[0m\n",
      "\u001b[1;31mNameError\u001b[0m: name 'n6' is not defined"
     ]
    },
    {
     "data": {
      "image/png": "[encoded data removed]",
      "text/plain": [
       "<Figure size 864x432 with 6 Axes>"
      ]
     },
     "metadata": {
      "needs_background": "light"
     },
     "output_type": "display_data"
    }
   ],
   "source": [
    "%matplotlib inline\n",
    "import numpy as np\n",
    "import matplotlib.pyplot as plt\n",
    "default_figsize=(12, 6)\n",
    "\n",
    "#--------------------------------------------------------\n",
    "N=8\n",
    "n1=np.arange(N) \n",
    "f1 = np.ones(8)\n",
    "#--------------------------------------------------------\n",
    "\n",
    "#----------------------------------------------------------\n",
    "#u(n) = δ(n-1) + 2* δ(n-2) + 3* δ(n-3) + 2* δ(n-4) + δ(n-5) – delty kronekera\n",
    "n2=np.arange(6) \n",
    "f2=[0,1,2,3,2,1]\n",
    "#----------------------------------------------------------\n",
    "\n",
    "#----------------------------------------------------------\n",
    "N=20\n",
    "n3 = np.arange(N) \n",
    "f3 = np.sin(2*np.pi/N*n3)\n",
    "#----------------------------------------------------------\n",
    "\n",
    "#----------------------------------------------------------\n",
    "n4 = np.arange(4)\n",
    "f4 = [1, 1, 0, 0]\n",
    "#----------------------------------------------------------\n",
    "\n",
    "#----------------------------------------------------------\n",
    "N=16\n",
    "n5 = np.arange(16)\n",
    "f51 = np.ones(int(N/2))\n",
    "f52 = np.ones(int(N-N/2))\n",
    "f5=np.append(f51,f52)\n",
    "#----------------------------------------------------------\n",
    "\n",
    "#----------------------------------------------------------\n",
    "#n6 = \n",
    "#f6 = \n",
    "#----------------------------------------------------------\n",
    "\n",
    "fig, axs = plt.subplots(3, 2, figsize=default_figsize)\n",
    "\n",
    "funkcje = [\"f1[n]\", \"f2[n]\", \"f3[n]\", \"f4[n]\", \"f5[n]\", \"f6[n]\"]\n",
    "index = 0\n",
    "for x in range(3):\n",
    "    for y in range(2):\n",
    "        axs[x][y].set_xlabel(\"n\")\n",
    "        axs[x][y].set_ylabel(funkcje[index])\n",
    "        index = index + 1\n",
    "\n",
    "\n",
    "axs[0][0].stem(n1, f1)\n",
    "axs[0][1].stem(n2, f2)\n",
    "axs[1][0].stem(n3, f3)\n",
    "axs[1][1].stem(n4, f4)\n",
    "axs[2][0].stem(n5, f5)\n",
    "axs[2][1].stem(n6, f6)\n",
    " "
   ]
  },
  {
   "cell_type": "markdown",
   "metadata": {},
   "source": [
    "----\n",
    "## 2. Dyskretne przekształcenie Fouriera - DFT\n",
    "----\n",
    "### Zadanie: Wyznaczyć analitycznie DFT dla sygnału z podpunktu 6\n",
    "\n",
    "### Zadanie: Wyznaczyć DFT sygnałów zdefiniowanych w punkcie 1. Wykreślić moduł próbek widma. Sprawdzić odwracalność przekształcenia.\n"
   ]
  },
  {
   "cell_type": "code",
   "execution_count": 16,
   "metadata": {},
   "outputs": [
    {
     "name": "stderr",
     "output_type": "stream",
     "text": [
      "C:\\Users\\shrap\\AppData\\Local\\Packages\\PythonSoftwareFoundation.Python.3.9_qbz5n2kfra8p0\\LocalCache\\local-packages\\Python39\\site-packages\\numpy\\ma\\core.py:3379: ComplexWarning: Casting complex values to real discards the imaginary part\n",
      "  _data[indx] = dval\n",
      "C:\\Users\\shrap\\AppData\\Local\\Packages\\PythonSoftwareFoundation.Python.3.9_qbz5n2kfra8p0\\LocalCache\\local-packages\\Python39\\site-packages\\matplotlib\\cbook\\__init__.py:1333: ComplexWarning: Casting complex values to real discards the imaginary part\n",
      "  return np.asarray(x, float)\n",
      "C:\\Users\\shrap\\AppData\\Local\\Packages\\PythonSoftwareFoundation.Python.3.9_qbz5n2kfra8p0\\LocalCache\\local-packages\\Python39\\site-packages\\matplotlib\\cbook\\__init__.py:1333: ComplexWarning: Casting complex values to real discards the imaginary part\n",
      "  return np.asarray(x, float)\n",
      "C:\\Users\\shrap\\AppData\\Local\\Packages\\PythonSoftwareFoundation.Python.3.9_qbz5n2kfra8p0\\LocalCache\\local-packages\\Python39\\site-packages\\numpy\\ma\\core.py:3379: ComplexWarning: Casting complex values to real discards the imaginary part\n",
      "  _data[indx] = dval\n",
      "C:\\Users\\shrap\\AppData\\Local\\Packages\\PythonSoftwareFoundation.Python.3.9_qbz5n2kfra8p0\\LocalCache\\local-packages\\Python39\\site-packages\\matplotlib\\cbook\\__init__.py:1333: ComplexWarning: Casting complex values to real discards the imaginary part\n",
      "  return np.asarray(x, float)\n",
      "C:\\Users\\shrap\\AppData\\Local\\Packages\\PythonSoftwareFoundation.Python.3.9_qbz5n2kfra8p0\\LocalCache\\local-packages\\Python39\\site-packages\\matplotlib\\cbook\\__init__.py:1333: ComplexWarning: Casting complex values to real discards the imaginary part\n",
      "  return np.asarray(x, float)\n"
     ]
    },
    {
     "ename": "NameError",
     "evalue": "name 'k3' is not defined",
     "output_type": "error",
     "traceback": [
      "\u001b[1;31m---------------------------------------------------------------------------\u001b[0m",
      "\u001b[1;31mNameError\u001b[0m                                 Traceback (most recent call last)",
      "\u001b[1;32m~\\AppData\\Local\\Temp/ipykernel_23340/3103272646.py\u001b[0m in \u001b[0;36m<module>\u001b[1;34m\u001b[0m\n\u001b[0;32m     58\u001b[0m \u001b[1;33m\u001b[0m\u001b[0m\n\u001b[0;32m     59\u001b[0m \u001b[0maxs\u001b[0m\u001b[1;33m[\u001b[0m\u001b[1;36m2\u001b[0m\u001b[1;33m]\u001b[0m\u001b[1;33m[\u001b[0m\u001b[1;36m0\u001b[0m\u001b[1;33m]\u001b[0m\u001b[1;33m.\u001b[0m\u001b[0mstem\u001b[0m\u001b[1;33m(\u001b[0m\u001b[0mn3\u001b[0m\u001b[1;33m,\u001b[0m \u001b[0mf3\u001b[0m\u001b[1;33m)\u001b[0m\u001b[1;33m\u001b[0m\u001b[1;33m\u001b[0m\u001b[0m\n\u001b[1;32m---> 60\u001b[1;33m \u001b[0maxs\u001b[0m\u001b[1;33m[\u001b[0m\u001b[1;36m2\u001b[0m\u001b[1;33m]\u001b[0m\u001b[1;33m[\u001b[0m\u001b[1;36m1\u001b[0m\u001b[1;33m]\u001b[0m\u001b[1;33m.\u001b[0m\u001b[0mstem\u001b[0m\u001b[1;33m(\u001b[0m\u001b[0mk3\u001b[0m\u001b[1;33m,\u001b[0m \u001b[0mabs_F3\u001b[0m\u001b[1;33m)\u001b[0m\u001b[1;33m\u001b[0m\u001b[1;33m\u001b[0m\u001b[0m\n\u001b[0m\u001b[0;32m     61\u001b[0m \u001b[0maxs\u001b[0m\u001b[1;33m[\u001b[0m\u001b[1;36m2\u001b[0m\u001b[1;33m]\u001b[0m\u001b[1;33m[\u001b[0m\u001b[1;36m2\u001b[0m\u001b[1;33m]\u001b[0m\u001b[1;33m.\u001b[0m\u001b[0mstem\u001b[0m\u001b[1;33m(\u001b[0m\u001b[0mn3\u001b[0m\u001b[1;33m,\u001b[0m \u001b[0mrecon_f3\u001b[0m\u001b[1;33m)\u001b[0m\u001b[1;33m\u001b[0m\u001b[1;33m\u001b[0m\u001b[0m\n\u001b[0;32m     62\u001b[0m \u001b[1;33m\u001b[0m\u001b[0m\n",
      "\u001b[1;31mNameError\u001b[0m: name 'k3' is not defined"
     ]
    },
    {
     "data": {
      "image/png": "[encoded data removed]",
      "text/plain": [
       "<Figure size 864x432 with 18 Axes>"
      ]
     },
     "metadata": {
      "needs_background": "light"
     },
     "output_type": "display_data"
    }
   ],
   "source": [
    "from scipy.fftpack import fft,ifft\n",
    "\n",
    "#-------------------------------------------------\n",
    "k1 = n1\n",
    "F1 = fft(f1,8)\n",
    "abs_F1=abs(F1)\n",
    "recon_f1=ifft(F1)\n",
    "\n",
    "#-------------------------------------------------\n",
    "\n",
    "#-------------------------------------------------\n",
    "k2 = n2\n",
    "F2 = fft(f2,6)\n",
    "abs_F2=abs(F2)\n",
    "recon_f2=ifft(F2,6)\n",
    "#-------------------------------------------------\n",
    "\n",
    "#-------------------------------------------------\n",
    "#k3 = \n",
    "#F3 = \n",
    "#-------------------------------------------------\n",
    "\n",
    "#-------------------------------------------------\n",
    "#k4 = \n",
    "#F4 = \n",
    "#-------------------------------------------------\n",
    "\n",
    "#-------------------------------------------------\n",
    "#k5 = \n",
    "#F5 = \n",
    "#-------------------------------------------------\n",
    "\n",
    "#-------------------------------------------------\n",
    "#k6 = \n",
    "#F6 = \n",
    "#-------------------------------------------------\n",
    "\n",
    "fig, axs = plt.subplots(6, 3, figsize=default_figsize)\n",
    "\n",
    "xlabel_tab = [\"n\", \"k\", \"n\", \"n\", \"k\", \"n\", \"n\", \"k\", \"n\", \"n\", \"k\", \"n\", \"n\", \"k\", \"n\", \"n\", \"k\", \"n\"]\n",
    "ylabel_tab = [\"f1[n]\", \"|F1[k]|\", \"recon_f1[n]\", \"f2[n]\", \"|F2[k]|\", \"recon_f2[n]\", \"f3[n]\", \"|F3[k]|\", \"recon_f3[n]\", \"f4[n]\", \"|F4[k]|\", \"recon_f4[n]\", \"f5[n]\", \"|F5[k]|\", \"recon_f5[n]\", \"f6[n]\", \"|F6[k]|\", \"recon_f6[n]\"]\n",
    "index = 0\n",
    "for x in range(6):\n",
    "    for y in range(3):\n",
    "        axs[x][y].set_xlabel(xlabel_tab[index])\n",
    "        axs[x][y].set_ylabel(ylabel_tab[index])\n",
    "        index = index + 1\n",
    "\n",
    "#------------------------------------------------------------------\n",
    "\n",
    "axs[0][0].stem(n1, f1)\n",
    "axs[0][1].stem(k1, abs_F1)\n",
    "axs[0][2].stem(n1, recon_f1)\n",
    "\n",
    "axs[1][0].stem(n2, f2)\n",
    "axs[1][1].stem(k2, abs_F2)\n",
    "axs[1][2].stem(n2, recon_f2)\n",
    "\n",
    "axs[2][0].stem(n3, f3)\n",
    "axs[2][1].stem(k3, abs_F3)\n",
    "axs[2][2].stem(n3, recon_f3)\n",
    "\n",
    "axs[3][0].stem(n4, f4)\n",
    "axs[3][1].stem(k4, abs_F4)\n",
    "axs[3][2].stem(n4, recon_f4)\n",
    "\n",
    "axs[4][0].stem(n5, f5)\n",
    "axs[4][1].stem(k5, abs_F5)\n",
    "axs[4][2].stem(n5, recon_f5)\n",
    "\n",
    "axs[5][0].stem(n6, f6)\n",
    "axs[5][1].stem(k6, abs_F6)\n",
    "axs[5][2].stem(n6, recon_f6)"
   ]
  },
  {
   "cell_type": "markdown",
   "metadata": {},
   "source": [
    "## 3. Okienkowanie sygnału + DFT\n",
    "---- \n",
    "### Zadanie: \n",
    "1. Wyznaczyć DFT przebiegu sinusoidalnego o okresie 20 próbek.\n",
    "2. Wyznaczyć DFT przebiegu sinusoidalnego o okresie 12 próbek. Proszę skonfrontować rezultat z wynikiem z punktu 1.\n",
    "3. Dokonać operacji okienkowania sygnału z punktu 2 a następnie dla wyniku obliczyć DFT. Proszę dopkonać analizy otrzymanego wyniku."
   ]
  },
  {
   "cell_type": "code",
   "execution_count": null,
   "metadata": {},
   "outputs": [],
   "source": [
    "from scipy.fftpack import fft,ifft\n",
    "\n",
    "\n",
    "#n7 = \n",
    "#f7 = \n",
    "#F7 = \n",
    "\n",
    "\n",
    "#n8 = \n",
    "#f8 = \n",
    "#F8 = \n",
    "\n",
    "fig, axs = plt.subplots(3, 2, figsize=default_figsize)\n",
    "axs[0][0].set_xlabel(\"n\")\n",
    "axs[0][0].set_ylabel(\"f7[n]\")\n",
    "\n",
    "axs[0][1].set_xlabel(\"k\")\n",
    "axs[0][1].set_ylabel(\"|F7[k]|\")\n",
    "\n",
    "axs[0][0].stem(n7, f7)\n",
    "axs[0][1].stem(k7, abs_F7)\n",
    "\n",
    "\n",
    "axs[1][0].set_xlabel(\"n\")\n",
    "axs[1][0].set_ylabel(\"f8[n]\")\n",
    "\n",
    "axs[1][1].set_xlabel(\"k\")\n",
    "axs[1][1].set_ylabel(\"|F8[k]|\")\n",
    "\n",
    "axs[1][0].stem(n8, f8)\n",
    "axs[1][1].stem(k8, abs_F8)\n",
    "\n",
    "\n",
    "#f9 = \n",
    "#F9 = \n",
    "\n",
    "axs[2][0].set_xlabel(\"n\")\n",
    "axs[2][0].set_ylabel(\"f9[n]\")\n",
    "\n",
    "axs[2][1].set_xlabel(\"k\")\n",
    "axs[2][1].set_ylabel(\"|F9[k]|\")\n",
    "\n",
    "axs[2][0].stem(n8, f9)\n",
    "axs[2][1].stem(k8, abs_F9)\n",
    "\n"
   ]
  },
  {
   "cell_type": "markdown",
   "metadata": {},
   "source": [
    "## 4. Splot sygnałów\n",
    "---- \n",
    "### Zadanie: Wyznaczyć analitycznie splot sygnałów f i g: f = [1, 1, -1, -1], g = [-2, 0, 1]\n",
    "\n",
    "### Zadanie: Sprawdzić poprawność obliczeń splotu implementując problem w języku Python.\n"
   ]
  },
  {
   "cell_type": "code",
   "execution_count": null,
   "metadata": {
    "tags": []
   },
   "outputs": [],
   "source": [
    "from scipy import signal\n",
    "\n",
    "\n",
    "\n",
    "#splot = \n",
    "display(splot)\n",
    "\n",
    "fig, axs = plt.subplots(1, 3, figsize=default_figsize)\n",
    "\n",
    "axs[0].set_xlabel(\"n\")\n",
    "axs[0].set_ylabel(\"f[n]\")\n",
    "\n",
    "axs[1].set_xlabel(\"n\")\n",
    "axs[1].set_ylabel(\"g[n]\")\n",
    "\n",
    "axs[2].set_xlabel(\"n\")\n",
    "axs[2].set_ylabel(\"splot\")\n",
    "\n",
    "axs[0].stem(n, f)\n",
    "axs[1].stem(n1, g)\n",
    "axs[2].stem(n2, splot)\n"
   ]
  },
  {
   "cell_type": "markdown",
   "metadata": {},
   "source": [
    "---- \n",
    "### Zadanie: Dla sygnałów z poprzedniego zadania wyznaczyć splot liniowy za pomocą splotu kołowego.\n",
    "\n",
    "\n"
   ]
  },
  {
   "cell_type": "code",
   "execution_count": null,
   "metadata": {},
   "outputs": [],
   "source": [
    "from scipy import signal\n",
    "\n"
   ]
  },
  {
   "cell_type": "code",
   "execution_count": null,
   "metadata": {},
   "outputs": [],
   "source": []
  }
 ],
 "metadata": {
  "kernelspec": {
   "display_name": "Python 3",
   "language": "python",
   "name": "python3"
  },
  "language_info": {
   "codemirror_mode": {
    "name": "ipython",
    "version": 3
   },
   "file_extension": ".py",
   "mimetype": "text/x-python",
   "name": "python",
   "nbconvert_exporter": "python",
   "pygments_lexer": "ipython3",
   "version": "3.10.6 (main, Nov 14 2022, 16:10:14) [GCC 11.3.0]"
  },
  "vscode": {
   "interpreter": {
    "hash": "916dbcbb3f70747c44a77c7bcd40155683ae19c65e1c03b4aa3499c5328201f1"
   }
  }
 },
 "nbformat": 4,
 "nbformat_minor": 4
}
